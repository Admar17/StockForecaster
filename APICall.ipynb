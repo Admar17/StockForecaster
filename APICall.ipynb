{
 "cells": [
  {
   "cell_type": "code",
   "execution_count": null,
   "metadata": {},
   "outputs": [],
   "source": [
    "# Raw Package\n",
    "import numpy as np\n",
    "import pandas as pd\n",
    "\n",
    "import APIBackend as back"
   ]
  },
  {
   "cell_type": "code",
   "execution_count": null,
   "metadata": {},
   "outputs": [],
   "source": [
    "\n",
    "stock = back.stock()\n",
    "# stock.ticker\n",
    "ticker = '^GSPC' ### You Can Change the Ticker\n",
    "stock_data = stock.getDailyStockInfo(ticker=ticker)\n",
    "\n",
    "\n"
   ]
  },
  {
   "cell_type": "code",
   "execution_count": null,
   "metadata": {},
   "outputs": [],
   "source": [
    "stock.plot_close_stock(stock_data)\n",
    "stock.trim_data(stock_data, month=5, year=2019)"
   ]
  },
  {
   "cell_type": "code",
   "execution_count": null,
   "metadata": {},
   "outputs": [],
   "source": [
    "stock.getETSPlot()"
   ]
  },
  {
   "cell_type": "code",
   "execution_count": null,
   "metadata": {},
   "outputs": [],
   "source": [
    "stock.plotDiagnostics()"
   ]
  },
  {
   "cell_type": "code",
   "execution_count": null,
   "metadata": {},
   "outputs": [],
   "source": [
    "import statsmodels.api as sm\n",
    "######################## Modeler Specifications ########################## You Can Change This Figures########################\n",
    "ar = 2\n",
    "ma = 3\n",
    "###########################\n",
    "\n",
    "stock.ARMA(ar,ma)\n",
    "\n"
   ]
  },
  {
   "cell_type": "code",
   "execution_count": null,
   "metadata": {},
   "outputs": [],
   "source": [
    "stock.plotARMAFit()\n"
   ]
  },
  {
   "cell_type": "code",
   "execution_count": null,
   "metadata": {},
   "outputs": [],
   "source": [
    "stock.forecastPlot()"
   ]
  },
  {
   "cell_type": "code",
   "execution_count": null,
   "metadata": {},
   "outputs": [],
   "source": [
    "stock.saveDataFrame(save = True)"
   ]
  },
  {
   "cell_type": "code",
   "execution_count": null,
   "metadata": {},
   "outputs": [],
   "source": [
    "######################## Modeler Specifications ########################## You Can Change This Figures########################\n",
    "ar = [1]\n",
    "ma = [12]\n",
    "\n",
    "###########################\n",
    "\n",
    "stock.ARIMA(ar,ma)\n",
    "\n"
   ]
  },
  {
   "cell_type": "code",
   "execution_count": null,
   "metadata": {},
   "outputs": [],
   "source": [
    "# fig = plt.figure(figsize=(20,12))\n",
    "# ax1 = fig.add_subplot(211)\n",
    "# # fig = sm.graphics.tsa.plot_acf(stock_data.Close.dropna(),lags=24,ax=ax1)\n",
    "# fig = sm.graphics.tsa.plot_acf(results.resid,lags=24,ax=ax1)\n",
    "# ax2 = fig.add_subplot(212)\n",
    "# # fig = sm.graphics.tsa.plot_pacf(stock_data.Close.dropna(),lags=24,ax=ax2)\n",
    "# fig = sm.graphics.tsa.plot_pacf(results.resid,lags=24,ax=ax2)\n",
    "\n"
   ]
  },
  {
   "cell_type": "code",
   "execution_count": null,
   "metadata": {},
   "outputs": [],
   "source": [
    "stock.forecastPlot()"
   ]
  },
  {
   "cell_type": "code",
   "execution_count": null,
   "metadata": {},
   "outputs": [],
   "source": [
    "stock.saveDataFrame(save = True)"
   ]
  }
 ],
 "metadata": {
  "interpreter": {
   "hash": "f523fdc754a49c82499eaa09a72087323ddf2a05a138ab597e2429facd008ab9"
  },
  "kernelspec": {
   "display_name": "Python 3.8.8 ('base')",
   "language": "python",
   "name": "python3"
  },
  "language_info": {
   "codemirror_mode": {
    "name": "ipython",
    "version": 3
   },
   "file_extension": ".py",
   "mimetype": "text/x-python",
   "name": "python",
   "nbconvert_exporter": "python",
   "pygments_lexer": "ipython3",
   "version": "3.8.8"
  },
  "orig_nbformat": 4
 },
 "nbformat": 4,
 "nbformat_minor": 2
}
