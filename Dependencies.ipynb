{
 "cells": [
  {
   "cell_type": "code",
   "execution_count": null,
   "metadata": {},
   "outputs": [],
   "source": [
    "#### Instalation Prerequesites\n",
    "### Run this notebook only on the first time use these files\n",
    "## It should take about 2-3 minutes to finish installing everything\n",
    "\n",
    "%pip install statsmodels\n",
    "%pip install numpy\n",
    "%pip install pandas\n",
    "%pip install matplotlib\n",
    "%pip install statsmodels\n",
    "%pip install yfinance\n",
    "%pip install plotly\n",
    "%pip install altair\n",
    "%pip install darts\n",
    "%pip install keras\n",
    "%pip install scikit-learn\n",
    "%pip install statsmodels==0.13.0\n",
    "# Install pystan with pip before using pip to install prophet\n",
    "# pystan>=3.0 is currently not supported\n",
    "# !pip install cmdstanpy==0.9.68\n",
    "# !pip install pystan==2.19.1.1\n",
    "# %pip install prophet"
   ]
  }
 ],
 "metadata": {
  "interpreter": {
   "hash": "f523fdc754a49c82499eaa09a72087323ddf2a05a138ab597e2429facd008ab9"
  },
  "kernelspec": {
   "display_name": "Python 3",
   "language": "python",
   "name": "python3"
  },
  "language_info": {
   "codemirror_mode": {
    "name": "ipython",
    "version": 3
   },
   "file_extension": ".py",
   "mimetype": "text/x-python",
   "name": "python",
   "nbconvert_exporter": "python",
   "pygments_lexer": "ipython3",
   "version": "3.8.8"
  }
 },
 "nbformat": 4,
 "nbformat_minor": 4
}
