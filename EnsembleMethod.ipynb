{
 "cells": [
  {
   "cell_type": "code",
   "execution_count": null,
   "metadata": {},
   "outputs": [],
   "source": [
    "# Import BackendWork\n",
    "%load_ext autoreload\n",
    "%autoreload 2\n",
    "\n",
    "import ensembleMethods as ensemble\n",
    "import APIBackend as back"
   ]
  },
  {
   "cell_type": "code",
   "execution_count": null,
   "metadata": {},
   "outputs": [],
   "source": [
    "stock = back.stock()\n",
    "# stock.ticker\n",
    "ticker = '^GSPC' ### You Can Change the Ticker\n",
    "stock_data = stock.getDailyStockInfo(ticker=ticker)\n"
   ]
  },
  {
   "cell_type": "code",
   "execution_count": null,
   "metadata": {},
   "outputs": [],
   "source": [
    "trim_year = 2019\n",
    "trim_month = 1\n",
    "m_test =ensemble.ensembleModel(ticker, trim_month, trim_year)"
   ]
  },
  {
   "cell_type": "code",
   "execution_count": null,
   "metadata": {},
   "outputs": [],
   "source": [
    "m_test.trimmed_data"
   ]
  },
  {
   "cell_type": "code",
   "execution_count": null,
   "metadata": {},
   "outputs": [],
   "source": [
    "method = ensemble.ensembleModel(ticker = ticker)"
   ]
  },
  {
   "cell_type": "code",
   "execution_count": null,
   "metadata": {},
   "outputs": [],
   "source": [
    "method.naiveForecast()\n",
    "method.forecastPlot()"
   ]
  },
  {
   "cell_type": "code",
   "execution_count": null,
   "metadata": {},
   "outputs": [],
   "source": [
    "method.driftForecast()\n",
    "method.forecastPlot()\n"
   ]
  },
  {
   "cell_type": "code",
   "execution_count": null,
   "metadata": {},
   "outputs": [],
   "source": [
    "method.naiveSeasonalForecast()\n",
    "method.forecastPlot()\n"
   ]
  }
 ],
 "metadata": {
  "interpreter": {
   "hash": "f523fdc754a49c82499eaa09a72087323ddf2a05a138ab597e2429facd008ab9"
  },
  "kernelspec": {
   "display_name": "Python 3",
   "language": "python",
   "name": "python3"
  },
  "language_info": {
   "codemirror_mode": {
    "name": "ipython",
    "version": 3
   },
   "file_extension": ".py",
   "mimetype": "text/x-python",
   "name": "python",
   "nbconvert_exporter": "python",
   "pygments_lexer": "ipython3",
   "version": "3.8.8"
  }
 },
 "nbformat": 4,
 "nbformat_minor": 4
}
